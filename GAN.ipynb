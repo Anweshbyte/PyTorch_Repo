{
 "cells": [
  {
   "cell_type": "code",
   "execution_count": 5,
   "metadata": {},
   "outputs": [],
   "source": [
    "import torch.nn as nn\n",
    "import numpy as np\n",
    "import torch"
   ]
  },
  {
   "cell_type": "code",
   "execution_count": 6,
   "metadata": {},
   "outputs": [],
   "source": [
    "inputs = np.array([[73, 67, 43], \n",
    "                   [91, 88, 64], \n",
    "                   [87, 134, 58], \n",
    "                   [102, 43, 37], \n",
    "                   [69, 96, 70], \n",
    "                   [74, 66, 43], \n",
    "                   [91, 87, 65], \n",
    "                   [88, 134, 59], \n",
    "                   [101, 44, 37], \n",
    "                   [68, 96, 71], \n",
    "                   [73, 66, 44], \n",
    "                   [92, 87, 64], \n",
    "                   [87, 135, 57], \n",
    "                   [103, 43, 36], \n",
    "                   [68, 97, 70]], \n",
    "                  dtype='float32')\n",
    "\n",
    "targets = np.array([[56, 70], \n",
    "                    [81, 101], \n",
    "                    [119, 133], \n",
    "                    [22, 37], \n",
    "                    [103, 119],\n",
    "                    [57, 69], \n",
    "                    [80, 102], \n",
    "                    [118, 132], \n",
    "                    [21, 38], \n",
    "                    [104, 118], \n",
    "                    [57, 69], \n",
    "                    [82, 100], \n",
    "                    [118, 134], \n",
    "                    [20, 38], \n",
    "                    [102, 120]], \n",
    "                   dtype='float32')\n",
    "\n",
    "inputs = torch.from_numpy(inputs)\n",
    "targets = torch.from_numpy(targets)"
   ]
  },
  {
   "cell_type": "code",
   "execution_count": 7,
   "metadata": {},
   "outputs": [],
   "source": [
    "from torch.utils.data import TensorDataset"
   ]
  },
  {
   "cell_type": "code",
   "execution_count": 8,
   "metadata": {},
   "outputs": [
    {
     "data": {
      "text/plain": [
       "(tensor([[ 73.,  67.,  43.],\n",
       "         [ 91.,  88.,  64.],\n",
       "         [ 87., 134.,  58.]]),\n",
       " tensor([[ 56.,  70.],\n",
       "         [ 81., 101.],\n",
       "         [119., 133.]]))"
      ]
     },
     "execution_count": 8,
     "metadata": {},
     "output_type": "execute_result"
    }
   ],
   "source": [
    "train_ds = TensorDataset(inputs, targets)\n",
    "train_ds[0:3]"
   ]
  },
  {
   "cell_type": "code",
   "execution_count": 9,
   "metadata": {},
   "outputs": [],
   "source": [
    "from torch.utils.data import DataLoader"
   ]
  },
  {
   "cell_type": "code",
   "execution_count": 10,
   "metadata": {},
   "outputs": [],
   "source": [
    "batch_size = 5\n",
    "train_dl = DataLoader(train_ds, batch_size, shuffle=True)"
   ]
  },
  {
   "cell_type": "code",
   "execution_count": 33,
   "metadata": {},
   "outputs": [
    {
     "name": "stdout",
     "output_type": "stream",
     "text": [
      "tensor([[ 68.,  96.,  71.],\n",
      "        [ 87., 135.,  57.],\n",
      "        [ 91.,  88.,  64.],\n",
      "        [ 91.,  87.,  65.],\n",
      "        [ 88., 134.,  59.]])\n",
      "tensor([[104., 118.],\n",
      "        [118., 134.],\n",
      "        [ 81., 101.],\n",
      "        [ 80., 102.],\n",
      "        [118., 132.]])\n",
      "tensor([[ 69.,  96.,  70.],\n",
      "        [102.,  43.,  37.],\n",
      "        [ 92.,  87.,  64.],\n",
      "        [ 87., 134.,  58.],\n",
      "        [ 74.,  66.,  43.]])\n",
      "tensor([[103., 119.],\n",
      "        [ 22.,  37.],\n",
      "        [ 82., 100.],\n",
      "        [119., 133.],\n",
      "        [ 57.,  69.]])\n",
      "tensor([[103.,  43.,  36.],\n",
      "        [ 73.,  67.,  43.],\n",
      "        [ 73.,  66.,  44.],\n",
      "        [ 68.,  97.,  70.],\n",
      "        [101.,  44.,  37.]])\n",
      "tensor([[ 20.,  38.],\n",
      "        [ 56.,  70.],\n",
      "        [ 57.,  69.],\n",
      "        [102., 120.],\n",
      "        [ 21.,  38.]])\n"
     ]
    }
   ],
   "source": [
    "for a, b in train_dl:\n",
    "    print(a)\n",
    "    print(b)"
   ]
  },
  {
   "cell_type": "code",
   "execution_count": 23,
   "metadata": {},
   "outputs": [
    {
     "name": "stdout",
     "output_type": "stream",
     "text": [
      "Parameter containing:\n",
      "tensor([[ 0.1697,  0.1420, -0.4562],\n",
      "        [ 0.4988, -0.3405,  0.1738]], requires_grad=True)\n",
      "Parameter containing:\n",
      "tensor([-0.3515, -0.3051], requires_grad=True)\n"
     ]
    }
   ],
   "source": [
    "model = nn.Linear(3, 2)\n",
    "print(model.weight)\n",
    "print(model.bias)"
   ]
  },
  {
   "cell_type": "code",
   "execution_count": 24,
   "metadata": {},
   "outputs": [
    {
     "data": {
      "text/plain": [
       "tensor([[ 1.9301, 20.7687],\n",
       "        [-1.6147, 26.2465],\n",
       "        [ 6.9744,  7.5472],\n",
       "        [ 6.1811, 42.3629],\n",
       "        [-6.9494, 13.5914],\n",
       "        [ 1.9579, 21.6080],\n",
       "        [-2.2129, 26.7607],\n",
       "        [ 6.6879,  8.2198],\n",
       "        [ 6.1534, 41.5236],\n",
       "        [-7.5753, 13.2664],\n",
       "        [ 1.3320, 21.2829],\n",
       "        [-1.5870, 27.0858],\n",
       "        [ 7.5726,  7.0330],\n",
       "        [ 6.8070, 42.6880],\n",
       "        [-6.9771, 12.7522]], grad_fn=<AddmmBackward0>)"
      ]
     },
     "execution_count": 24,
     "metadata": {},
     "output_type": "execute_result"
    }
   ],
   "source": [
    "preds = model(inputs)\n",
    "preds"
   ]
  },
  {
   "cell_type": "code",
   "execution_count": 25,
   "metadata": {},
   "outputs": [],
   "source": [
    "import torch.nn.functional as F\n",
    "loss_fn = F.mse_loss"
   ]
  },
  {
   "cell_type": "code",
   "execution_count": 26,
   "metadata": {},
   "outputs": [
    {
     "name": "stdout",
     "output_type": "stream",
     "text": [
      "tensor(6938.4707, grad_fn=<MseLossBackward0>)\n"
     ]
    }
   ],
   "source": [
    "loss = loss_fn(model(inputs), targets)\n",
    "print(loss)"
   ]
  },
  {
   "cell_type": "code",
   "execution_count": 27,
   "metadata": {},
   "outputs": [],
   "source": [
    "opt = torch.optim.SGD(model.parameters(), lr=1e-5)"
   ]
  },
  {
   "cell_type": "code",
   "execution_count": 36,
   "metadata": {},
   "outputs": [],
   "source": [
    "def fit(num_epochs, model, loss_fn, opt, train_dl):\n",
    "    \n",
    "    for epoch in range(num_epochs):\n",
    "        \n",
    "        for xb,yb in train_dl:\n",
    "\n",
    "            pred = model(xb)\n",
    "\n",
    "            loss = loss_fn(pred, yb)\n",
    "            \n",
    "            loss.backward()\n",
    "            \n",
    "            opt.step()\n",
    "            \n",
    "            opt.zero_grad()\n",
    "        \n",
    "        if (epoch+1) % 10 == 0:\n",
    "            print('Epoch [{}/{}], Loss: {:.4f}'.format(epoch+1, num_epochs, loss.item()))"
   ]
  },
  {
   "cell_type": "code",
   "execution_count": 37,
   "metadata": {},
   "outputs": [
    {
     "name": "stdout",
     "output_type": "stream",
     "text": [
      "Epoch [10/100], Loss: 302.3612\n",
      "Epoch [20/100], Loss: 305.4959\n",
      "Epoch [30/100], Loss: 332.0916\n",
      "Epoch [40/100], Loss: 176.7237\n",
      "Epoch [50/100], Loss: 100.1480\n",
      "Epoch [60/100], Loss: 94.6886\n",
      "Epoch [70/100], Loss: 67.4884\n",
      "Epoch [80/100], Loss: 53.7508\n",
      "Epoch [90/100], Loss: 35.2861\n",
      "Epoch [100/100], Loss: 34.4594\n"
     ]
    }
   ],
   "source": [
    "fit(100, model, loss_fn, opt, train_dl)"
   ]
  },
  {
   "cell_type": "code",
   "execution_count": 38,
   "metadata": {},
   "outputs": [
    {
     "data": {
      "text/plain": [
       "tensor([[ 58.1366,  71.6198],\n",
       "        [ 78.2519,  99.4315],\n",
       "        [124.8768, 133.3103],\n",
       "        [ 27.5953,  45.0019],\n",
       "        [ 91.2599, 112.2875],\n",
       "        [ 56.9322,  70.6914],\n",
       "        [ 77.3524,  99.2460],\n",
       "        [124.7957, 133.8103],\n",
       "        [ 28.7997,  45.9303],\n",
       "        [ 91.5648, 113.0304],\n",
       "        [ 57.2371,  71.4342],\n",
       "        [ 77.0475,  98.5031],\n",
       "        [125.7763, 133.4958],\n",
       "        [ 27.2905,  44.2590],\n",
       "        [ 92.4643, 113.2160]], grad_fn=<AddmmBackward0>)"
      ]
     },
     "execution_count": 38,
     "metadata": {},
     "output_type": "execute_result"
    }
   ],
   "source": [
    "preds = model(inputs)\n",
    "preds"
   ]
  },
  {
   "cell_type": "code",
   "execution_count": 39,
   "metadata": {},
   "outputs": [
    {
     "data": {
      "text/plain": [
       "tensor([[53.8169, 68.7704]], grad_fn=<AddmmBackward0>)"
      ]
     },
     "execution_count": 39,
     "metadata": {},
     "output_type": "execute_result"
    }
   ],
   "source": [
    "model(torch.tensor([[75, 63, 44.]]))"
   ]
  }
 ],
 "metadata": {
  "kernelspec": {
   "display_name": "tensorflow",
   "language": "python",
   "name": "python3"
  },
  "language_info": {
   "codemirror_mode": {
    "name": "ipython",
    "version": 3
   },
   "file_extension": ".py",
   "mimetype": "text/x-python",
   "name": "python",
   "nbconvert_exporter": "python",
   "pygments_lexer": "ipython3",
   "version": "3.10.8 | packaged by conda-forge | (main, Nov 24 2022, 14:07:00) [MSC v.1916 64 bit (AMD64)]"
  },
  "orig_nbformat": 4,
  "vscode": {
   "interpreter": {
    "hash": "d23214735a989fde4505766674dd96cf74045cd813aa3ff28af77bb4da38661e"
   }
  }
 },
 "nbformat": 4,
 "nbformat_minor": 2
}
