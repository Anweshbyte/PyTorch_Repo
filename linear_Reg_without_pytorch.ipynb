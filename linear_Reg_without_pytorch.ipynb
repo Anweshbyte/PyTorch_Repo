{
 "cells": [
  {
   "cell_type": "code",
   "execution_count": 61,
   "metadata": {},
   "outputs": [],
   "source": [
    "import numpy as np\n",
    "from numpy import random"
   ]
  },
  {
   "cell_type": "code",
   "execution_count": 62,
   "metadata": {},
   "outputs": [],
   "source": [
    "X = np.array([1,2,3,4])\n",
    "Y = np.array([2,4,6,8])\n",
    "w = 0.0"
   ]
  },
  {
   "cell_type": "code",
   "execution_count": 63,
   "metadata": {},
   "outputs": [],
   "source": [
    "def forward(x):\n",
    "    return w*X"
   ]
  },
  {
   "cell_type": "code",
   "execution_count": 64,
   "metadata": {},
   "outputs": [],
   "source": [
    "def loss(Y, y_pred):\n",
    "    return ((y_pred - Y)**2).mean()"
   ]
  },
  {
   "cell_type": "code",
   "execution_count": 65,
   "metadata": {},
   "outputs": [],
   "source": [
    "def gradient(X, Y, y_pred):\n",
    "    return np.dot(2*X, y_pred - Y).mean()\n"
   ]
  },
  {
   "cell_type": "code",
   "execution_count": 66,
   "metadata": {},
   "outputs": [],
   "source": [
    "learning_rate = 0.01\n",
    "iters = 10"
   ]
  },
  {
   "cell_type": "code",
   "execution_count": 67,
   "metadata": {},
   "outputs": [
    {
     "name": "stdout",
     "output_type": "stream",
     "text": [
      "1.2\n"
     ]
    },
    {
     "ename": "TypeError",
     "evalue": "'numpy.float64' object is not callable",
     "output_type": "error",
     "traceback": [
      "\u001b[1;31m---------------------------------------------------------------------------\u001b[0m",
      "\u001b[1;31mTypeError\u001b[0m                                 Traceback (most recent call last)",
      "Cell \u001b[1;32mIn[67], line 4\u001b[0m\n\u001b[0;32m      2\u001b[0m y_pred \u001b[39m=\u001b[39m forward(X)\n\u001b[0;32m      3\u001b[0m dw \u001b[39m=\u001b[39m gradient(X, Y, y_pred)\n\u001b[1;32m----> 4\u001b[0m loss \u001b[39m=\u001b[39m loss(Y, y_pred)\n\u001b[0;32m      5\u001b[0m w \u001b[39m-\u001b[39m\u001b[39m=\u001b[39m learning_rate\u001b[39m*\u001b[39mdw\n\u001b[0;32m      7\u001b[0m \u001b[39mprint\u001b[39m(w)\n",
      "\u001b[1;31mTypeError\u001b[0m: 'numpy.float64' object is not callable"
     ]
    }
   ],
   "source": [
    "for epoch in range(iters):\n",
    "    y_pred = forward(X)\n",
    "    dw = gradient(X, Y, y_pred)\n",
    "    loss = loss(Y, y_pred)\n",
    "    w -= learning_rate*dw\n",
    "\n",
    "    print(w)\n",
    "    "
   ]
  },
  {
   "cell_type": "code",
   "execution_count": null,
   "metadata": {},
   "outputs": [],
   "source": []
  }
 ],
 "metadata": {
  "kernelspec": {
   "display_name": "tensorflow",
   "language": "python",
   "name": "python3"
  },
  "language_info": {
   "codemirror_mode": {
    "name": "ipython",
    "version": 3
   },
   "file_extension": ".py",
   "mimetype": "text/x-python",
   "name": "python",
   "nbconvert_exporter": "python",
   "pygments_lexer": "ipython3",
   "version": "3.10.8"
  },
  "orig_nbformat": 4,
  "vscode": {
   "interpreter": {
    "hash": "d23214735a989fde4505766674dd96cf74045cd813aa3ff28af77bb4da38661e"
   }
  }
 },
 "nbformat": 4,
 "nbformat_minor": 2
}
